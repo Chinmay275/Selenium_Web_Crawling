{
 "cells": [
  {
   "cell_type": "code",
   "execution_count": 58,
   "id": "aedff960",
   "metadata": {},
   "outputs": [],
   "source": [
    "from selenium import webdriver\n",
    "from selenium.webdriver.common.by import By\n",
    "from bs4 import BeautifulSoup\n",
    "import time\n",
    " \n",
    "# Instance\n",
    "driver = webdriver.Chrome()\n",
    " \n",
    "\n",
    "driver.get(\"https://linkedin.com/uas/login\")\n",
    "time.sleep(2)\n",
    " \n",
    "username = driver.find_element(By.ID, \"username\")\n",
    "username.send_keys(\"EMAIL\")  # Enter Your Email Address\n",
    " \n",
    "pword = driver.find_element(By.ID, \"password\")\n",
    "pword.send_keys(\"PASSWORD\")        # Enter Your Password\n",
    " \n",
    "driver.find_element(By.XPATH, \"//button[@type='submit']\").click()\n",
    "\n",
    "profile_url = \"https://www.linkedin.com/company/chelsea-football-club/\"\n",
    "\n",
    "driver.get(profile_url)  "
   ]
  },
  {
   "cell_type": "code",
   "execution_count": 59,
   "id": "bc494333",
   "metadata": {},
   "outputs": [],
   "source": [
    "page_source = driver.page_source\n",
    "soup = BeautifulSoup(page_source, 'html.parser')"
   ]
  },
  {
   "cell_type": "code",
   "execution_count": 26,
   "id": "2248ce6a",
   "metadata": {
    "scrolled": true
   },
   "outputs": [
    {
     "name": "stdout",
     "output_type": "stream",
     "text": [
      "Chelsea Football Club\n"
     ]
    }
   ],
   "source": [
    "name = soup.find('span', {'dir':'ltr'})\n",
    "name = name.get_text().strip()\n",
    "print(name)"
   ]
  },
  {
   "cell_type": "code",
   "execution_count": 60,
   "id": "dc6224f4",
   "metadata": {},
   "outputs": [
    {
     "name": "stdout",
     "output_type": "stream",
     "text": [
      "199538\n"
     ]
    }
   ],
   "source": [
    "followers = soup.find('div', {'class': 'org-top-card-summary-info-list'})\n",
    "followers = followers.get_text().strip()\n",
    "followers = followers.split()\n",
    "followers = ''.join(filter(str.isdigit, followers[3]))\n",
    "followers = int(followers.replace(',', ''))\n",
    "print(followers)"
   ]
  },
  {
   "cell_type": "code",
   "execution_count": 28,
   "id": "c6bda842",
   "metadata": {},
   "outputs": [
    {
     "name": "stdout",
     "output_type": "stream",
     "text": [
      "https://media.licdn.com/dms/image/C4E0BAQGOKE_Fs5llxw/company-logo_200_200/0/1678268962269?e=1704931200&v=beta&t=oIE86jcHXli49FyZIDA5VhGOoGm8IXc5ePHhankaf7U\n"
     ]
    }
   ],
   "source": [
    "image = soup.find('img', {'class': 'evi-image lazy-image ember-view org-top-card-primary-content__logo'})\n",
    "image = image.get('src')\n",
    "print(image)"
   ]
  },
  {
   "cell_type": "code",
   "execution_count": 29,
   "id": "271d9b74",
   "metadata": {
    "scrolled": true
   },
   "outputs": [
    {
     "name": "stdout",
     "output_type": "stream",
     "text": [
      "Chelsea Football Club, with over a century of rich sporting heritage, has paved the way for a superior collection of hospitality, events and leisure facilities all at one venue. Boasting 25 function rooms and 60 syndicate rooms, alongside t ... see more ... see more\n"
     ]
    }
   ],
   "source": [
    "bio = soup.find('div', {'class':'org-about-module__description'})\n",
    "bio = bio.get_text().strip()\n",
    "bio = bio.split()\n",
    "bio = ' '.join(bio)\n",
    "print(bio)"
   ]
  },
  {
   "cell_type": "code",
   "execution_count": 72,
   "id": "06a3ad7d",
   "metadata": {},
   "outputs": [
    {
     "name": "stdout",
     "output_type": "stream",
     "text": [
      "Data for Account_id 11 inserted or updated successfully!\n"
     ]
    }
   ],
   "source": [
    "import psycopg2\n",
    "import uuid\n",
    "# Replace these values with your PostgreSQL database credentials\n",
    "db_config = {\n",
    "    'host': 'localhost',\n",
    "    'database': 'postgres',\n",
    "    'user': 'postgres',\n",
    "    'password': 'PASSWORD' #Password of PGadmin\n",
    "}\n",
    "\n",
    "# Sample data defined in variables\n",
    "Account_id = 11\n",
    "Platform = 'linkedin'\n",
    "Name = name\n",
    "Account_url = profile_url\n",
    "Followers = followers\n",
    "Profile_image_url = image\n",
    "Created_date = '2023-10-9'\n",
    "Updated_date = '2023-10-9'\n",
    "\n",
    "try:\n",
    "    # Connect to the PostgreSQL database\n",
    "    conn = psycopg2.connect(**db_config)\n",
    "    cursor = conn.cursor()\n",
    "\n",
    "    # Define the INSERT ... ON CONFLICT ... DO UPDATE query with a unique constraint on account_id\n",
    "    upsert_query = \"\"\"\n",
    "    INSERT INTO social_account_info(Account_id, Platform, Name, Account_url, Followers, Profile_image_url, Bio, Created_date, Updated_date)\n",
    "    VALUES (%s, %s, %s, %s, %s, %s, %s, %s, %s)\n",
    "    ON CONFLICT (Account_id) DO UPDATE\n",
    "    SET\n",
    "        Platform = EXCLUDED.Platform,\n",
    "        Name = EXCLUDED.Name,\n",
    "        Account_url = EXCLUDED.Account_url,\n",
    "        Followers = EXCLUDED.Followers,\n",
    "        Profile_image_url = EXCLUDED.Profile_image_url,\n",
    "        Bio = EXCLUDED.Bio,\n",
    "        Created_date = EXCLUDED.Created_date,\n",
    "        Updated_date = EXCLUDED.Updated_date;\n",
    "    \"\"\"\n",
    "\n",
    "    # Execute the INSERT ... ON CONFLICT ... DO UPDATE query with the sample data variables\n",
    "    cursor.execute(upsert_query, (Account_id, Platform, Name, Account_url, Followers, Profile_image_url, Bio, Created_date, Updated_date))\n",
    "\n",
    "    # Commit the transaction\n",
    "    conn.commit()\n",
    "    print(f\"Data for Account_id {Account_id} inserted or updated successfully!\")\n",
    "\n",
    "except Exception as e:\n",
    "    print(f\"Error: {str(e)}\")\n",
    "\n",
    "finally:\n",
    "    # Close the database connection\n",
    "    cursor.close()\n",
    "    conn.close()"
   ]
  },
  {
   "cell_type": "code",
   "execution_count": 67,
   "id": "f7d524fa",
   "metadata": {},
   "outputs": [
    {
     "name": "stdout",
     "output_type": "stream",
     "text": [
      "Data for Account_id c3cf0b9f-2f33-49cb-8566-2da700937709 inserted or updated successfully!\n"
     ]
    }
   ],
   "source": []
  },
  {
   "cell_type": "code",
   "execution_count": null,
   "id": "3dbdffd7",
   "metadata": {},
   "outputs": [],
   "source": []
  }
 ],
 "metadata": {
  "kernelspec": {
   "display_name": "Python 3",
   "language": "python",
   "name": "python3"
  },
  "language_info": {
   "codemirror_mode": {
    "name": "ipython",
    "version": 3
   },
   "file_extension": ".py",
   "mimetype": "text/x-python",
   "name": "python",
   "nbconvert_exporter": "python",
   "pygments_lexer": "ipython3",
   "version": "3.8.8"
  }
 },
 "nbformat": 4,
 "nbformat_minor": 5
}
